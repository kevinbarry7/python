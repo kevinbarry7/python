{
 "cells": [
  {
   "cell_type": "code",
   "execution_count": 25,
   "outputs": [],
   "source": [
    "import pandas as pd\n",
    "import numpy as np\n",
    "import matplotlib.pyplot as plt\n",
    "import seaborn as sns\n",
    "%matplotlib inline"
   ],
   "metadata": {
    "collapsed": false,
    "pycharm": {
     "name": "#%%\n"
    }
   }
  },
  {
   "cell_type": "code",
   "execution_count": 26,
   "outputs": [],
   "source": [
    "df = pd.read_csv('datasets/absenteeism_at_work_aaa/absenteeism_at_work.csv', sep=';')"
   ],
   "metadata": {
    "collapsed": false,
    "pycharm": {
     "name": "#%%\n"
    }
   }
  },
  {
   "cell_type": "code",
   "execution_count": 27,
   "outputs": [
    {
     "data": {
      "text/plain": "   ID  Reason for absence  Month of absence  Day of the week  Seasons  \\\n0  11                  26                 7                3        1   \n1  36                   0                 7                3        1   \n2   3                  23                 7                4        1   \n3   7                   7                 7                5        1   \n4  11                  23                 7                5        1   \n\n   Transportation expense  Distance from Residence to Work  Service time  Age  \\\n0                     289                               36            13   33   \n1                     118                               13            18   50   \n2                     179                               51            18   38   \n3                     279                                5            14   39   \n4                     289                               36            13   33   \n\n   Work load Average/day   ...  Disciplinary failure  Education  Son  \\\n0                 239.554  ...                     0          1    2   \n1                 239.554  ...                     1          1    1   \n2                 239.554  ...                     0          1    0   \n3                 239.554  ...                     0          1    2   \n4                 239.554  ...                     0          1    2   \n\n   Social drinker  Social smoker  Pet  Weight  Height  Body mass index  \\\n0               1              0    1      90     172               30   \n1               1              0    0      98     178               31   \n2               1              0    0      89     170               31   \n3               1              1    0      68     168               24   \n4               1              0    1      90     172               30   \n\n   Absenteeism time in hours  \n0                          4  \n1                          0  \n2                          2  \n3                          4  \n4                          2  \n\n[5 rows x 21 columns]",
      "text/html": "<div>\n<style scoped>\n    .dataframe tbody tr th:only-of-type {\n        vertical-align: middle;\n    }\n\n    .dataframe tbody tr th {\n        vertical-align: top;\n    }\n\n    .dataframe thead th {\n        text-align: right;\n    }\n</style>\n<table border=\"1\" class=\"dataframe\">\n  <thead>\n    <tr style=\"text-align: right;\">\n      <th></th>\n      <th>ID</th>\n      <th>Reason for absence</th>\n      <th>Month of absence</th>\n      <th>Day of the week</th>\n      <th>Seasons</th>\n      <th>Transportation expense</th>\n      <th>Distance from Residence to Work</th>\n      <th>Service time</th>\n      <th>Age</th>\n      <th>Work load Average/day</th>\n      <th>...</th>\n      <th>Disciplinary failure</th>\n      <th>Education</th>\n      <th>Son</th>\n      <th>Social drinker</th>\n      <th>Social smoker</th>\n      <th>Pet</th>\n      <th>Weight</th>\n      <th>Height</th>\n      <th>Body mass index</th>\n      <th>Absenteeism time in hours</th>\n    </tr>\n  </thead>\n  <tbody>\n    <tr>\n      <th>0</th>\n      <td>11</td>\n      <td>26</td>\n      <td>7</td>\n      <td>3</td>\n      <td>1</td>\n      <td>289</td>\n      <td>36</td>\n      <td>13</td>\n      <td>33</td>\n      <td>239.554</td>\n      <td>...</td>\n      <td>0</td>\n      <td>1</td>\n      <td>2</td>\n      <td>1</td>\n      <td>0</td>\n      <td>1</td>\n      <td>90</td>\n      <td>172</td>\n      <td>30</td>\n      <td>4</td>\n    </tr>\n    <tr>\n      <th>1</th>\n      <td>36</td>\n      <td>0</td>\n      <td>7</td>\n      <td>3</td>\n      <td>1</td>\n      <td>118</td>\n      <td>13</td>\n      <td>18</td>\n      <td>50</td>\n      <td>239.554</td>\n      <td>...</td>\n      <td>1</td>\n      <td>1</td>\n      <td>1</td>\n      <td>1</td>\n      <td>0</td>\n      <td>0</td>\n      <td>98</td>\n      <td>178</td>\n      <td>31</td>\n      <td>0</td>\n    </tr>\n    <tr>\n      <th>2</th>\n      <td>3</td>\n      <td>23</td>\n      <td>7</td>\n      <td>4</td>\n      <td>1</td>\n      <td>179</td>\n      <td>51</td>\n      <td>18</td>\n      <td>38</td>\n      <td>239.554</td>\n      <td>...</td>\n      <td>0</td>\n      <td>1</td>\n      <td>0</td>\n      <td>1</td>\n      <td>0</td>\n      <td>0</td>\n      <td>89</td>\n      <td>170</td>\n      <td>31</td>\n      <td>2</td>\n    </tr>\n    <tr>\n      <th>3</th>\n      <td>7</td>\n      <td>7</td>\n      <td>7</td>\n      <td>5</td>\n      <td>1</td>\n      <td>279</td>\n      <td>5</td>\n      <td>14</td>\n      <td>39</td>\n      <td>239.554</td>\n      <td>...</td>\n      <td>0</td>\n      <td>1</td>\n      <td>2</td>\n      <td>1</td>\n      <td>1</td>\n      <td>0</td>\n      <td>68</td>\n      <td>168</td>\n      <td>24</td>\n      <td>4</td>\n    </tr>\n    <tr>\n      <th>4</th>\n      <td>11</td>\n      <td>23</td>\n      <td>7</td>\n      <td>5</td>\n      <td>1</td>\n      <td>289</td>\n      <td>36</td>\n      <td>13</td>\n      <td>33</td>\n      <td>239.554</td>\n      <td>...</td>\n      <td>0</td>\n      <td>1</td>\n      <td>2</td>\n      <td>1</td>\n      <td>0</td>\n      <td>1</td>\n      <td>90</td>\n      <td>172</td>\n      <td>30</td>\n      <td>2</td>\n    </tr>\n  </tbody>\n</table>\n<p>5 rows × 21 columns</p>\n</div>"
     },
     "execution_count": 27,
     "metadata": {},
     "output_type": "execute_result"
    }
   ],
   "source": [
    "df.head()"
   ],
   "metadata": {
    "collapsed": false,
    "pycharm": {
     "name": "#%%\n"
    }
   }
  },
  {
   "cell_type": "code",
   "execution_count": 28,
   "outputs": [
    {
     "data": {
      "text/plain": "740"
     },
     "execution_count": 28,
     "metadata": {},
     "output_type": "execute_result"
    }
   ],
   "source": [
    "len(df)"
   ],
   "metadata": {
    "collapsed": false,
    "pycharm": {
     "name": "#%%\n"
    }
   }
  },
  {
   "cell_type": "code",
   "execution_count": 29,
   "outputs": [
    {
     "data": {
      "text/plain": "   id  reason_for_absence  month_of_absence  day_of_the_week  seasons  \\\n0  11                  26                 7                3        1   \n1  36                   0                 7                3        1   \n2   3                  23                 7                4        1   \n3   7                   7                 7                5        1   \n4  11                  23                 7                5        1   \n\n   transportation_expense  distance_from_residence_to_work  service_time  age  \\\n0                     289                               36            13   33   \n1                     118                               13            18   50   \n2                     179                               51            18   38   \n3                     279                                5            14   39   \n4                     289                               36            13   33   \n\n   work_load_average/day_  ...  disciplinary_failure  education  son  \\\n0                 239.554  ...                     0          1    2   \n1                 239.554  ...                     1          1    1   \n2                 239.554  ...                     0          1    0   \n3                 239.554  ...                     0          1    2   \n4                 239.554  ...                     0          1    2   \n\n   social_drinker  social_smoker  pet  weight  height  body_mass_index  \\\n0               1              0    1      90     172               30   \n1               1              0    0      98     178               31   \n2               1              0    0      89     170               31   \n3               1              1    0      68     168               24   \n4               1              0    1      90     172               30   \n\n   absenteeism_time_in_hours  \n0                          4  \n1                          0  \n2                          2  \n3                          4  \n4                          2  \n\n[5 rows x 21 columns]",
      "text/html": "<div>\n<style scoped>\n    .dataframe tbody tr th:only-of-type {\n        vertical-align: middle;\n    }\n\n    .dataframe tbody tr th {\n        vertical-align: top;\n    }\n\n    .dataframe thead th {\n        text-align: right;\n    }\n</style>\n<table border=\"1\" class=\"dataframe\">\n  <thead>\n    <tr style=\"text-align: right;\">\n      <th></th>\n      <th>id</th>\n      <th>reason_for_absence</th>\n      <th>month_of_absence</th>\n      <th>day_of_the_week</th>\n      <th>seasons</th>\n      <th>transportation_expense</th>\n      <th>distance_from_residence_to_work</th>\n      <th>service_time</th>\n      <th>age</th>\n      <th>work_load_average/day_</th>\n      <th>...</th>\n      <th>disciplinary_failure</th>\n      <th>education</th>\n      <th>son</th>\n      <th>social_drinker</th>\n      <th>social_smoker</th>\n      <th>pet</th>\n      <th>weight</th>\n      <th>height</th>\n      <th>body_mass_index</th>\n      <th>absenteeism_time_in_hours</th>\n    </tr>\n  </thead>\n  <tbody>\n    <tr>\n      <th>0</th>\n      <td>11</td>\n      <td>26</td>\n      <td>7</td>\n      <td>3</td>\n      <td>1</td>\n      <td>289</td>\n      <td>36</td>\n      <td>13</td>\n      <td>33</td>\n      <td>239.554</td>\n      <td>...</td>\n      <td>0</td>\n      <td>1</td>\n      <td>2</td>\n      <td>1</td>\n      <td>0</td>\n      <td>1</td>\n      <td>90</td>\n      <td>172</td>\n      <td>30</td>\n      <td>4</td>\n    </tr>\n    <tr>\n      <th>1</th>\n      <td>36</td>\n      <td>0</td>\n      <td>7</td>\n      <td>3</td>\n      <td>1</td>\n      <td>118</td>\n      <td>13</td>\n      <td>18</td>\n      <td>50</td>\n      <td>239.554</td>\n      <td>...</td>\n      <td>1</td>\n      <td>1</td>\n      <td>1</td>\n      <td>1</td>\n      <td>0</td>\n      <td>0</td>\n      <td>98</td>\n      <td>178</td>\n      <td>31</td>\n      <td>0</td>\n    </tr>\n    <tr>\n      <th>2</th>\n      <td>3</td>\n      <td>23</td>\n      <td>7</td>\n      <td>4</td>\n      <td>1</td>\n      <td>179</td>\n      <td>51</td>\n      <td>18</td>\n      <td>38</td>\n      <td>239.554</td>\n      <td>...</td>\n      <td>0</td>\n      <td>1</td>\n      <td>0</td>\n      <td>1</td>\n      <td>0</td>\n      <td>0</td>\n      <td>89</td>\n      <td>170</td>\n      <td>31</td>\n      <td>2</td>\n    </tr>\n    <tr>\n      <th>3</th>\n      <td>7</td>\n      <td>7</td>\n      <td>7</td>\n      <td>5</td>\n      <td>1</td>\n      <td>279</td>\n      <td>5</td>\n      <td>14</td>\n      <td>39</td>\n      <td>239.554</td>\n      <td>...</td>\n      <td>0</td>\n      <td>1</td>\n      <td>2</td>\n      <td>1</td>\n      <td>1</td>\n      <td>0</td>\n      <td>68</td>\n      <td>168</td>\n      <td>24</td>\n      <td>4</td>\n    </tr>\n    <tr>\n      <th>4</th>\n      <td>11</td>\n      <td>23</td>\n      <td>7</td>\n      <td>5</td>\n      <td>1</td>\n      <td>289</td>\n      <td>36</td>\n      <td>13</td>\n      <td>33</td>\n      <td>239.554</td>\n      <td>...</td>\n      <td>0</td>\n      <td>1</td>\n      <td>2</td>\n      <td>1</td>\n      <td>0</td>\n      <td>1</td>\n      <td>90</td>\n      <td>172</td>\n      <td>30</td>\n      <td>2</td>\n    </tr>\n  </tbody>\n</table>\n<p>5 rows × 21 columns</p>\n</div>"
     },
     "execution_count": 29,
     "metadata": {},
     "output_type": "execute_result"
    }
   ],
   "source": [
    "df.columns = df.columns.str.lower().str.replace(' ', '_')\n",
    "df.head()"
   ],
   "metadata": {
    "collapsed": false,
    "pycharm": {
     "name": "#%%\n"
    }
   }
  },
  {
   "cell_type": "code",
   "execution_count": 30,
   "outputs": [
    {
     "name": "stdout",
     "output_type": "stream",
     "text": [
      "<class 'pandas.core.frame.DataFrame'>\n",
      "RangeIndex: 740 entries, 0 to 739\n",
      "Data columns (total 21 columns):\n",
      " #   Column                           Non-Null Count  Dtype  \n",
      "---  ------                           --------------  -----  \n",
      " 0   id                               740 non-null    int64  \n",
      " 1   reason_for_absence               740 non-null    int64  \n",
      " 2   month_of_absence                 740 non-null    int64  \n",
      " 3   day_of_the_week                  740 non-null    int64  \n",
      " 4   seasons                          740 non-null    int64  \n",
      " 5   transportation_expense           740 non-null    int64  \n",
      " 6   distance_from_residence_to_work  740 non-null    int64  \n",
      " 7   service_time                     740 non-null    int64  \n",
      " 8   age                              740 non-null    int64  \n",
      " 9   work_load_average/day_           740 non-null    float64\n",
      " 10  hit_target                       740 non-null    int64  \n",
      " 11  disciplinary_failure             740 non-null    int64  \n",
      " 12  education                        740 non-null    int64  \n",
      " 13  son                              740 non-null    int64  \n",
      " 14  social_drinker                   740 non-null    int64  \n",
      " 15  social_smoker                    740 non-null    int64  \n",
      " 16  pet                              740 non-null    int64  \n",
      " 17  weight                           740 non-null    int64  \n",
      " 18  height                           740 non-null    int64  \n",
      " 19  body_mass_index                  740 non-null    int64  \n",
      " 20  absenteeism_time_in_hours        740 non-null    int64  \n",
      "dtypes: float64(1), int64(20)\n",
      "memory usage: 121.5 KB\n"
     ]
    }
   ],
   "source": [
    "df.info()"
   ],
   "metadata": {
    "collapsed": false,
    "pycharm": {
     "name": "#%%\n"
    }
   }
  },
  {
   "cell_type": "code",
   "execution_count": 31,
   "outputs": [
    {
     "data": {
      "text/plain": "id                                 0\nreason_for_absence                 0\nmonth_of_absence                   0\nday_of_the_week                    0\nseasons                            0\ntransportation_expense             0\ndistance_from_residence_to_work    0\nservice_time                       0\nage                                0\nwork_load_average/day_             0\nhit_target                         0\ndisciplinary_failure               0\neducation                          0\nson                                0\nsocial_drinker                     0\nsocial_smoker                      0\npet                                0\nweight                             0\nheight                             0\nbody_mass_index                    0\nabsenteeism_time_in_hours          0\ndtype: int64"
     },
     "execution_count": 31,
     "metadata": {},
     "output_type": "execute_result"
    }
   ],
   "source": [
    "# check for missing values\n",
    "df.isnull().sum()"
   ],
   "metadata": {
    "collapsed": false,
    "pycharm": {
     "name": "#%%\n"
    }
   }
  },
  {
   "cell_type": "code",
   "execution_count": 32,
   "outputs": [
    {
     "name": "stdout",
     "output_type": "stream",
     "text": [
      "                                 count        mean        std      min  \\\n",
      "id                               740.0   18.017568  11.021247    1.000   \n",
      "reason_for_absence               740.0   19.216216   8.433406    0.000   \n",
      "month_of_absence                 740.0    6.324324   3.436287    0.000   \n",
      "day_of_the_week                  740.0    3.914865   1.421675    2.000   \n",
      "seasons                          740.0    2.544595   1.111831    1.000   \n",
      "transportation_expense           740.0  221.329730  66.952223  118.000   \n",
      "distance_from_residence_to_work  740.0   29.631081  14.836788    5.000   \n",
      "service_time                     740.0   12.554054   4.384873    1.000   \n",
      "age                              740.0   36.450000   6.478772   27.000   \n",
      "work_load_average/day_           740.0  271.490235  39.058116  205.917   \n",
      "hit_target                       740.0   94.587838   3.779313   81.000   \n",
      "disciplinary_failure             740.0    0.054054   0.226277    0.000   \n",
      "education                        740.0    1.291892   0.673238    1.000   \n",
      "son                              740.0    1.018919   1.098489    0.000   \n",
      "social_drinker                   740.0    0.567568   0.495749    0.000   \n",
      "social_smoker                    740.0    0.072973   0.260268    0.000   \n",
      "pet                              740.0    0.745946   1.318258    0.000   \n",
      "weight                           740.0   79.035135  12.883211   56.000   \n",
      "height                           740.0  172.114865   6.034995  163.000   \n",
      "body_mass_index                  740.0   26.677027   4.285452   19.000   \n",
      "absenteeism_time_in_hours        740.0    6.924324  13.330998    0.000   \n",
      "\n",
      "                                     25%      50%      75%      max  \n",
      "id                                 9.000   18.000   28.000   36.000  \n",
      "reason_for_absence                13.000   23.000   26.000   28.000  \n",
      "month_of_absence                   3.000    6.000    9.000   12.000  \n",
      "day_of_the_week                    3.000    4.000    5.000    6.000  \n",
      "seasons                            2.000    3.000    4.000    4.000  \n",
      "transportation_expense           179.000  225.000  260.000  388.000  \n",
      "distance_from_residence_to_work   16.000   26.000   50.000   52.000  \n",
      "service_time                       9.000   13.000   16.000   29.000  \n",
      "age                               31.000   37.000   40.000   58.000  \n",
      "work_load_average/day_           244.387  264.249  294.217  378.884  \n",
      "hit_target                        93.000   95.000   97.000  100.000  \n",
      "disciplinary_failure               0.000    0.000    0.000    1.000  \n",
      "education                          1.000    1.000    1.000    4.000  \n",
      "son                                0.000    1.000    2.000    4.000  \n",
      "social_drinker                     0.000    1.000    1.000    1.000  \n",
      "social_smoker                      0.000    0.000    0.000    1.000  \n",
      "pet                                0.000    0.000    1.000    8.000  \n",
      "weight                            69.000   83.000   89.000  108.000  \n",
      "height                           169.000  170.000  172.000  196.000  \n",
      "body_mass_index                   24.000   25.000   31.000   38.000  \n",
      "absenteeism_time_in_hours          2.000    3.000    8.000  120.000  \n"
     ]
    }
   ],
   "source": [
    "print(df.describe().T)"
   ],
   "metadata": {
    "collapsed": false,
    "pycharm": {
     "name": "#%%\n"
    }
   }
  },
  {
   "cell_type": "code",
   "execution_count": 33,
   "outputs": [
    {
     "name": "stdout",
     "output_type": "stream",
     "text": [
      "     absenteeism_time_in_hours  work_load_average/day_  \\\n",
      "min                          0                 205.917   \n",
      "max                        120                 378.884   \n",
      "\n",
      "     transportation_expense  distance_from_residence_to_work  service_time  \n",
      "min                     118                                5             1  \n",
      "max                     388                               52            29  \n"
     ]
    }
   ],
   "source": [
    "df_min_max = df[['absenteeism_time_in_hours', 'work_load_average/day_', 'transportation_expense',\n",
    "                 'distance_from_residence_to_work', 'service_time']].agg(['min', 'max'])\n",
    "print(df_min_max)"
   ],
   "metadata": {
    "collapsed": false,
    "pycharm": {
     "name": "#%%\n"
    }
   }
  },
  {
   "cell_type": "code",
   "execution_count": 34,
   "outputs": [],
   "source": [
    "type_mapping_day = {2 : 'Monday', 3 : 'Tuesday', 4 : 'Wednesday', 5 : 'Thursday', 6 : 'Friday'}\n",
    "df['day_of_the_week'] = df['day_of_the_week'].map(type_mapping_day)\n",
    "type_mapping_season = {1: 'Winter', 2: 'Spring', 3: 'Summer', 4: 'Fall'}\n",
    "df['seasons'] = df['seasons'].map(type_mapping_season)\n",
    "type_mapping_month = {1 : 'January', 2: 'February', 3: 'March', 4: 'April', 5 : 'May', 6: 'June', 7: 'July', 8: 'August',\n",
    "                      9: 'September', 10: 'October', 11: 'November', 12: 'December'}\n",
    "df['month_of_absence'] = df['month_of_absence'].map(type_mapping_month)\n",
    "type_mapping_discipline = {1 : 'yes', 0 : 'no'}\n",
    "df['disciplinary_failure'] = df['disciplinary_failure'].map(type_mapping_discipline)\n",
    "type_mapping_education = {1 : 'high_school', 2 : 'graduate', 3 : 'postgraduate', 4 : 'master_doctor'}\n",
    "df['education'] = df['education'].map(type_mapping_education)\n",
    "type_mapping_drinker = {1 : 'yes', 0 : 'no'}\n",
    "df['social_drinker'] = df['social_drinker'].map(type_mapping_drinker)\n",
    "type_mapping_smoker = {1 : 'yes', 0 : 'no'}\n",
    "df['social_smoker'] = df['social_smoker'].map(type_mapping_smoker)\n"
   ],
   "metadata": {
    "collapsed": false,
    "pycharm": {
     "name": "#%%\n"
    }
   }
  },
  {
   "cell_type": "code",
   "execution_count": 35,
   "outputs": [
    {
     "data": {
      "text/plain": "   id  reason_for_absence month_of_absence day_of_the_week seasons  \\\n0  11                  26             July         Tuesday  Winter   \n1  36                   0             July         Tuesday  Winter   \n2   3                  23             July       Wednesday  Winter   \n3   7                   7             July        Thursday  Winter   \n4  11                  23             July        Thursday  Winter   \n\n   transportation_expense  distance_from_residence_to_work  service_time  age  \\\n0                     289                               36            13   33   \n1                     118                               13            18   50   \n2                     179                               51            18   38   \n3                     279                                5            14   39   \n4                     289                               36            13   33   \n\n   work_load_average/day_  ...  disciplinary_failure    education son  \\\n0                 239.554  ...                    no  high_school   2   \n1                 239.554  ...                   yes  high_school   1   \n2                 239.554  ...                    no  high_school   0   \n3                 239.554  ...                    no  high_school   2   \n4                 239.554  ...                    no  high_school   2   \n\n   social_drinker social_smoker pet  weight  height  body_mass_index  \\\n0             yes            no   1      90     172               30   \n1             yes            no   0      98     178               31   \n2             yes            no   0      89     170               31   \n3             yes           yes   0      68     168               24   \n4             yes            no   1      90     172               30   \n\n   absenteeism_time_in_hours  \n0                          4  \n1                          0  \n2                          2  \n3                          4  \n4                          2  \n\n[5 rows x 21 columns]",
      "text/html": "<div>\n<style scoped>\n    .dataframe tbody tr th:only-of-type {\n        vertical-align: middle;\n    }\n\n    .dataframe tbody tr th {\n        vertical-align: top;\n    }\n\n    .dataframe thead th {\n        text-align: right;\n    }\n</style>\n<table border=\"1\" class=\"dataframe\">\n  <thead>\n    <tr style=\"text-align: right;\">\n      <th></th>\n      <th>id</th>\n      <th>reason_for_absence</th>\n      <th>month_of_absence</th>\n      <th>day_of_the_week</th>\n      <th>seasons</th>\n      <th>transportation_expense</th>\n      <th>distance_from_residence_to_work</th>\n      <th>service_time</th>\n      <th>age</th>\n      <th>work_load_average/day_</th>\n      <th>...</th>\n      <th>disciplinary_failure</th>\n      <th>education</th>\n      <th>son</th>\n      <th>social_drinker</th>\n      <th>social_smoker</th>\n      <th>pet</th>\n      <th>weight</th>\n      <th>height</th>\n      <th>body_mass_index</th>\n      <th>absenteeism_time_in_hours</th>\n    </tr>\n  </thead>\n  <tbody>\n    <tr>\n      <th>0</th>\n      <td>11</td>\n      <td>26</td>\n      <td>July</td>\n      <td>Tuesday</td>\n      <td>Winter</td>\n      <td>289</td>\n      <td>36</td>\n      <td>13</td>\n      <td>33</td>\n      <td>239.554</td>\n      <td>...</td>\n      <td>no</td>\n      <td>high_school</td>\n      <td>2</td>\n      <td>yes</td>\n      <td>no</td>\n      <td>1</td>\n      <td>90</td>\n      <td>172</td>\n      <td>30</td>\n      <td>4</td>\n    </tr>\n    <tr>\n      <th>1</th>\n      <td>36</td>\n      <td>0</td>\n      <td>July</td>\n      <td>Tuesday</td>\n      <td>Winter</td>\n      <td>118</td>\n      <td>13</td>\n      <td>18</td>\n      <td>50</td>\n      <td>239.554</td>\n      <td>...</td>\n      <td>yes</td>\n      <td>high_school</td>\n      <td>1</td>\n      <td>yes</td>\n      <td>no</td>\n      <td>0</td>\n      <td>98</td>\n      <td>178</td>\n      <td>31</td>\n      <td>0</td>\n    </tr>\n    <tr>\n      <th>2</th>\n      <td>3</td>\n      <td>23</td>\n      <td>July</td>\n      <td>Wednesday</td>\n      <td>Winter</td>\n      <td>179</td>\n      <td>51</td>\n      <td>18</td>\n      <td>38</td>\n      <td>239.554</td>\n      <td>...</td>\n      <td>no</td>\n      <td>high_school</td>\n      <td>0</td>\n      <td>yes</td>\n      <td>no</td>\n      <td>0</td>\n      <td>89</td>\n      <td>170</td>\n      <td>31</td>\n      <td>2</td>\n    </tr>\n    <tr>\n      <th>3</th>\n      <td>7</td>\n      <td>7</td>\n      <td>July</td>\n      <td>Thursday</td>\n      <td>Winter</td>\n      <td>279</td>\n      <td>5</td>\n      <td>14</td>\n      <td>39</td>\n      <td>239.554</td>\n      <td>...</td>\n      <td>no</td>\n      <td>high_school</td>\n      <td>2</td>\n      <td>yes</td>\n      <td>yes</td>\n      <td>0</td>\n      <td>68</td>\n      <td>168</td>\n      <td>24</td>\n      <td>4</td>\n    </tr>\n    <tr>\n      <th>4</th>\n      <td>11</td>\n      <td>23</td>\n      <td>July</td>\n      <td>Thursday</td>\n      <td>Winter</td>\n      <td>289</td>\n      <td>36</td>\n      <td>13</td>\n      <td>33</td>\n      <td>239.554</td>\n      <td>...</td>\n      <td>no</td>\n      <td>high_school</td>\n      <td>2</td>\n      <td>yes</td>\n      <td>no</td>\n      <td>1</td>\n      <td>90</td>\n      <td>172</td>\n      <td>30</td>\n      <td>2</td>\n    </tr>\n  </tbody>\n</table>\n<p>5 rows × 21 columns</p>\n</div>"
     },
     "execution_count": 35,
     "metadata": {},
     "output_type": "execute_result"
    }
   ],
   "source": [
    "df.head()"
   ],
   "metadata": {
    "collapsed": false,
    "pycharm": {
     "name": "#%%\n"
    }
   }
  },
  {
   "cell_type": "code",
   "execution_count": 38,
   "outputs": [
    {
     "data": {
      "text/plain": "<AxesSubplot:xlabel='social_drinker', ylabel='Count'>"
     },
     "execution_count": 38,
     "metadata": {},
     "output_type": "execute_result"
    },
    {
     "data": {
      "text/plain": "<Figure size 432x288 with 1 Axes>",
      "image/png": "[encoded data removed]"
     },
     "metadata": {
      "needs_background": "light"
     },
     "output_type": "display_data"
    }
   ],
   "source": [
    "sns.histplot(df.social_drinker)"
   ],
   "metadata": {
    "collapsed": false,
    "pycharm": {
     "name": "#%%\n"
    }
   }
  },
  {
   "cell_type": "code",
   "execution_count": 39,
   "outputs": [
    {
     "data": {
      "text/plain": "<AxesSubplot:xlabel='social_smoker', ylabel='Count'>"
     },
     "execution_count": 39,
     "metadata": {},
     "output_type": "execute_result"
    },
    {
     "data": {
      "text/plain": "<Figure size 432x288 with 1 Axes>",
      "image/png": "[encoded data removed]"
     },
     "metadata": {
      "needs_background": "light"
     },
     "output_type": "display_data"
    }
   ],
   "source": [
    "sns.histplot(df.social_smoker)"
   ],
   "metadata": {
    "collapsed": false,
    "pycharm": {
     "name": "#%%\n"
    }
   }
  },
  {
   "cell_type": "code",
   "execution_count": 40,
   "outputs": [
    {
     "data": {
      "text/plain": "<AxesSubplot:xlabel='disciplinary_failure', ylabel='Count'>"
     },
     "execution_count": 40,
     "metadata": {},
     "output_type": "execute_result"
    },
    {
     "data": {
      "text/plain": "<Figure size 432x288 with 1 Axes>",
      "image/png": "[encoded data removed]"
     },
     "metadata": {
      "needs_background": "light"
     },
     "output_type": "display_data"
    }
   ],
   "source": [
    "sns.histplot(df.disciplinary_failure)"
   ],
   "metadata": {
    "collapsed": false,
    "pycharm": {
     "name": "#%%\n"
    }
   }
  },
  {
   "cell_type": "code",
   "execution_count": 41,
   "outputs": [
    {
     "data": {
      "text/plain": "<AxesSubplot:xlabel='seasons', ylabel='Count'>"
     },
     "execution_count": 41,
     "metadata": {},
     "output_type": "execute_result"
    },
    {
     "data": {
      "text/plain": "<Figure size 432x288 with 1 Axes>",
      "image/png": "[encoded data removed]"
     },
     "metadata": {
      "needs_background": "light"
     },
     "output_type": "display_data"
    }
   ],
   "source": [
    "sns.histplot(df.seasons)"
   ],
   "metadata": {
    "collapsed": false,
    "pycharm": {
     "name": "#%%\n"
    }
   }
  },
  {
   "cell_type": "code",
   "execution_count": 42,
   "outputs": [
    {
     "data": {
      "text/plain": "<AxesSubplot:xlabel='education', ylabel='Count'>"
     },
     "execution_count": 42,
     "metadata": {},
     "output_type": "execute_result"
    },
    {
     "data": {
      "text/plain": "<Figure size 432x288 with 1 Axes>",
      "image/png": "[encoded data removed]"
     },
     "metadata": {
      "needs_background": "light"
     },
     "output_type": "display_data"
    }
   ],
   "source": [
    "sns.histplot(df.education)"
   ],
   "metadata": {
    "collapsed": false,
    "pycharm": {
     "name": "#%%\n"
    }
   }
  },
  {
   "cell_type": "code",
   "execution_count": 43,
   "outputs": [
    {
     "data": {
      "text/plain": "<AxesSubplot:xlabel='day_of_the_week', ylabel='Count'>"
     },
     "execution_count": 43,
     "metadata": {},
     "output_type": "execute_result"
    },
    {
     "data": {
      "text/plain": "<Figure size 432x288 with 1 Axes>",
      "image/png": "[encoded data removed]"
     },
     "metadata": {
      "needs_background": "light"
     },
     "output_type": "display_data"
    }
   ],
   "source": [
    "sns.histplot(df.day_of_the_week)"
   ],
   "metadata": {
    "collapsed": false,
    "pycharm": {
     "name": "#%%\n"
    }
   }
  },
  {
   "cell_type": "code",
   "execution_count": 49,
   "outputs": [
    {
     "data": {
      "text/plain": "<AxesSubplot:xlabel='reason_for_absence', ylabel='Count'>"
     },
     "execution_count": 49,
     "metadata": {},
     "output_type": "execute_result"
    },
    {
     "data": {
      "text/plain": "<Figure size 432x288 with 1 Axes>",
      "image/png": "[encoded data removed]"
     },
     "metadata": {
      "needs_background": "light"
     },
     "output_type": "display_data"
    }
   ],
   "source": [
    "sns.histplot(df.reason_for_absence, bins=28)"
   ],
   "metadata": {
    "collapsed": false,
    "pycharm": {
     "name": "#%%\n"
    }
   }
  },
  {
   "cell_type": "code",
   "execution_count": 48,
   "outputs": [
    {
     "name": "stdout",
     "output_type": "stream",
     "text": [
      "[26  0 23  7 22 19  1 11 14 21 10 13 28 18 25 24  6 27 17  8 12  5  9 15\n",
      "  4  3  2 16]\n",
      "28\n"
     ]
    }
   ],
   "source": [
    "# get unique values from 'reason_for_absence' column\n",
    "print(df['reason_for_absence'].unique())\n",
    "print(df['reason_for_absence'].nunique())"
   ],
   "metadata": {
    "collapsed": false,
    "pycharm": {
     "name": "#%%\n"
    }
   }
  },
  {
   "cell_type": "code",
   "execution_count": 51,
   "outputs": [
    {
     "data": {
      "text/plain": "3       1\n17      1\n2       1\n4       2\n15      2\n16      3\n5       3\n24      3\n9       4\n21      6\n8       6\n12      8\n6       8\n7      15\n1      16\n14     19\n18     21\n10     25\n11     26\n25     31\n26     33\n22     38\n19     40\n0      43\n13     55\n27     69\n28    112\n23    149\nName: reason_for_absence, dtype: int64"
     },
     "execution_count": 51,
     "metadata": {},
     "output_type": "execute_result"
    }
   ],
   "source": [
    "df['reason_for_absence'].value_counts(ascending=True)"
   ],
   "metadata": {
    "collapsed": false,
    "pycharm": {
     "name": "#%%\n"
    }
   }
  },
  {
   "cell_type": "code",
   "execution_count": 53,
   "outputs": [
    {
     "data": {
      "text/plain": "<AxesSubplot:xlabel='distance_from_residence_to_work', ylabel='Count'>"
     },
     "execution_count": 53,
     "metadata": {},
     "output_type": "execute_result"
    },
    {
     "data": {
      "text/plain": "<Figure size 432x288 with 1 Axes>",
      "image/png": "[encoded data removed]"
     },
     "metadata": {
      "needs_background": "light"
     },
     "output_type": "display_data"
    }
   ],
   "source": [
    "sns.histplot(df.distance_from_residence_to_work, bins=5)"
   ],
   "metadata": {
    "collapsed": false,
    "pycharm": {
     "name": "#%%\n"
    }
   }
  },
  {
   "cell_type": "code",
   "execution_count": null,
   "outputs": [],
   "source": [],
   "metadata": {
    "collapsed": false,
    "pycharm": {
     "name": "#%%\n"
    }
   }
  }
 ],
 "metadata": {
  "kernelspec": {
   "display_name": "Python 3",
   "language": "python",
   "name": "python3"
  },
  "language_info": {
   "codemirror_mode": {
    "name": "ipython",
    "version": 2
   },
   "file_extension": ".py",
   "mimetype": "text/x-python",
   "name": "python",
   "nbconvert_exporter": "python",
   "pygments_lexer": "ipython2",
   "version": "2.7.6"
  }
 },
 "nbformat": 4,
 "nbformat_minor": 0
}