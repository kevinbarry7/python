{
 "cells": [
  {
   "cell_type": "code",
   "execution_count": 1,
   "outputs": [],
   "source": [
    "import pandas as pd\n",
    "import numpy as np\n",
    "import matplotlib.pyplot as plt\n",
    "import seaborn as sns\n",
    "%matplotlib inline"
   ],
   "metadata": {
    "collapsed": false,
    "pycharm": {
     "name": "#%%\n"
    }
   }
  },
  {
   "cell_type": "code",
   "execution_count": 6,
   "outputs": [],
   "source": [
    "df = pd.read_csv('datasets/absenteeism_at_work_aaa/absenteeism_at_work.csv', sep=';')"
   ],
   "metadata": {
    "collapsed": false,
    "pycharm": {
     "name": "#%%\n"
    }
   }
  },
  {
   "cell_type": "code",
   "execution_count": 7,
   "outputs": [
    {
     "data": {
      "text/plain": "   ID  Reason for absence  Month of absence  Day of the week  Seasons  \\\n0  11                  26                 7                3        1   \n1  36                   0                 7                3        1   \n2   3                  23                 7                4        1   \n3   7                   7                 7                5        1   \n4  11                  23                 7                5        1   \n\n   Transportation expense  Distance from Residence to Work  Service time  Age  \\\n0                     289                               36            13   33   \n1                     118                               13            18   50   \n2                     179                               51            18   38   \n3                     279                                5            14   39   \n4                     289                               36            13   33   \n\n   Work load Average/day   ...  Disciplinary failure  Education  Son  \\\n0                 239.554  ...                     0          1    2   \n1                 239.554  ...                     1          1    1   \n2                 239.554  ...                     0          1    0   \n3                 239.554  ...                     0          1    2   \n4                 239.554  ...                     0          1    2   \n\n   Social drinker  Social smoker  Pet  Weight  Height  Body mass index  \\\n0               1              0    1      90     172               30   \n1               1              0    0      98     178               31   \n2               1              0    0      89     170               31   \n3               1              1    0      68     168               24   \n4               1              0    1      90     172               30   \n\n   Absenteeism time in hours  \n0                          4  \n1                          0  \n2                          2  \n3                          4  \n4                          2  \n\n[5 rows x 21 columns]",
      "text/html": "<div>\n<style scoped>\n    .dataframe tbody tr th:only-of-type {\n        vertical-align: middle;\n    }\n\n    .dataframe tbody tr th {\n        vertical-align: top;\n    }\n\n    .dataframe thead th {\n        text-align: right;\n    }\n</style>\n<table border=\"1\" class=\"dataframe\">\n  <thead>\n    <tr style=\"text-align: right;\">\n      <th></th>\n      <th>ID</th>\n      <th>Reason for absence</th>\n      <th>Month of absence</th>\n      <th>Day of the week</th>\n      <th>Seasons</th>\n      <th>Transportation expense</th>\n      <th>Distance from Residence to Work</th>\n      <th>Service time</th>\n      <th>Age</th>\n      <th>Work load Average/day</th>\n      <th>...</th>\n      <th>Disciplinary failure</th>\n      <th>Education</th>\n      <th>Son</th>\n      <th>Social drinker</th>\n      <th>Social smoker</th>\n      <th>Pet</th>\n      <th>Weight</th>\n      <th>Height</th>\n      <th>Body mass index</th>\n      <th>Absenteeism time in hours</th>\n    </tr>\n  </thead>\n  <tbody>\n    <tr>\n      <th>0</th>\n      <td>11</td>\n      <td>26</td>\n      <td>7</td>\n      <td>3</td>\n      <td>1</td>\n      <td>289</td>\n      <td>36</td>\n      <td>13</td>\n      <td>33</td>\n      <td>239.554</td>\n      <td>...</td>\n      <td>0</td>\n      <td>1</td>\n      <td>2</td>\n      <td>1</td>\n      <td>0</td>\n      <td>1</td>\n      <td>90</td>\n      <td>172</td>\n      <td>30</td>\n      <td>4</td>\n    </tr>\n    <tr>\n      <th>1</th>\n      <td>36</td>\n      <td>0</td>\n      <td>7</td>\n      <td>3</td>\n      <td>1</td>\n      <td>118</td>\n      <td>13</td>\n      <td>18</td>\n      <td>50</td>\n      <td>239.554</td>\n      <td>...</td>\n      <td>1</td>\n      <td>1</td>\n      <td>1</td>\n      <td>1</td>\n      <td>0</td>\n      <td>0</td>\n      <td>98</td>\n      <td>178</td>\n      <td>31</td>\n      <td>0</td>\n    </tr>\n    <tr>\n      <th>2</th>\n      <td>3</td>\n      <td>23</td>\n      <td>7</td>\n      <td>4</td>\n      <td>1</td>\n      <td>179</td>\n      <td>51</td>\n      <td>18</td>\n      <td>38</td>\n      <td>239.554</td>\n      <td>...</td>\n      <td>0</td>\n      <td>1</td>\n      <td>0</td>\n      <td>1</td>\n      <td>0</td>\n      <td>0</td>\n      <td>89</td>\n      <td>170</td>\n      <td>31</td>\n      <td>2</td>\n    </tr>\n    <tr>\n      <th>3</th>\n      <td>7</td>\n      <td>7</td>\n      <td>7</td>\n      <td>5</td>\n      <td>1</td>\n      <td>279</td>\n      <td>5</td>\n      <td>14</td>\n      <td>39</td>\n      <td>239.554</td>\n      <td>...</td>\n      <td>0</td>\n      <td>1</td>\n      <td>2</td>\n      <td>1</td>\n      <td>1</td>\n      <td>0</td>\n      <td>68</td>\n      <td>168</td>\n      <td>24</td>\n      <td>4</td>\n    </tr>\n    <tr>\n      <th>4</th>\n      <td>11</td>\n      <td>23</td>\n      <td>7</td>\n      <td>5</td>\n      <td>1</td>\n      <td>289</td>\n      <td>36</td>\n      <td>13</td>\n      <td>33</td>\n      <td>239.554</td>\n      <td>...</td>\n      <td>0</td>\n      <td>1</td>\n      <td>2</td>\n      <td>1</td>\n      <td>0</td>\n      <td>1</td>\n      <td>90</td>\n      <td>172</td>\n      <td>30</td>\n      <td>2</td>\n    </tr>\n  </tbody>\n</table>\n<p>5 rows × 21 columns</p>\n</div>"
     },
     "execution_count": 7,
     "metadata": {},
     "output_type": "execute_result"
    }
   ],
   "source": [
    "df.head()"
   ],
   "metadata": {
    "collapsed": false,
    "pycharm": {
     "name": "#%%\n"
    }
   }
  },
  {
   "cell_type": "code",
   "execution_count": 8,
   "outputs": [
    {
     "data": {
      "text/plain": "740"
     },
     "execution_count": 8,
     "metadata": {},
     "output_type": "execute_result"
    }
   ],
   "source": [
    "len(df)"
   ],
   "metadata": {
    "collapsed": false,
    "pycharm": {
     "name": "#%%\n"
    }
   }
  },
  {
   "cell_type": "code",
   "execution_count": 12,
   "outputs": [
    {
     "data": {
      "text/plain": "   id  reason_for_absence  month_of_absence  day_of_the_week  seasons  \\\n0  11                  26                 7                3        1   \n1  36                   0                 7                3        1   \n2   3                  23                 7                4        1   \n3   7                   7                 7                5        1   \n4  11                  23                 7                5        1   \n\n   transportation_expense  distance_from_residence_to_work  service_time  age  \\\n0                     289                               36            13   33   \n1                     118                               13            18   50   \n2                     179                               51            18   38   \n3                     279                                5            14   39   \n4                     289                               36            13   33   \n\n   work_load_average/day_  ...  disciplinary_failure  education  son  \\\n0                 239.554  ...                     0          1    2   \n1                 239.554  ...                     1          1    1   \n2                 239.554  ...                     0          1    0   \n3                 239.554  ...                     0          1    2   \n4                 239.554  ...                     0          1    2   \n\n   social_drinker  social_smoker  pet  weight  height  body_mass_index  \\\n0               1              0    1      90     172               30   \n1               1              0    0      98     178               31   \n2               1              0    0      89     170               31   \n3               1              1    0      68     168               24   \n4               1              0    1      90     172               30   \n\n   absenteeism_time_in_hours  \n0                          4  \n1                          0  \n2                          2  \n3                          4  \n4                          2  \n\n[5 rows x 21 columns]",
      "text/html": "<div>\n<style scoped>\n    .dataframe tbody tr th:only-of-type {\n        vertical-align: middle;\n    }\n\n    .dataframe tbody tr th {\n        vertical-align: top;\n    }\n\n    .dataframe thead th {\n        text-align: right;\n    }\n</style>\n<table border=\"1\" class=\"dataframe\">\n  <thead>\n    <tr style=\"text-align: right;\">\n      <th></th>\n      <th>id</th>\n      <th>reason_for_absence</th>\n      <th>month_of_absence</th>\n      <th>day_of_the_week</th>\n      <th>seasons</th>\n      <th>transportation_expense</th>\n      <th>distance_from_residence_to_work</th>\n      <th>service_time</th>\n      <th>age</th>\n      <th>work_load_average/day_</th>\n      <th>...</th>\n      <th>disciplinary_failure</th>\n      <th>education</th>\n      <th>son</th>\n      <th>social_drinker</th>\n      <th>social_smoker</th>\n      <th>pet</th>\n      <th>weight</th>\n      <th>height</th>\n      <th>body_mass_index</th>\n      <th>absenteeism_time_in_hours</th>\n    </tr>\n  </thead>\n  <tbody>\n    <tr>\n      <th>0</th>\n      <td>11</td>\n      <td>26</td>\n      <td>7</td>\n      <td>3</td>\n      <td>1</td>\n      <td>289</td>\n      <td>36</td>\n      <td>13</td>\n      <td>33</td>\n      <td>239.554</td>\n      <td>...</td>\n      <td>0</td>\n      <td>1</td>\n      <td>2</td>\n      <td>1</td>\n      <td>0</td>\n      <td>1</td>\n      <td>90</td>\n      <td>172</td>\n      <td>30</td>\n      <td>4</td>\n    </tr>\n    <tr>\n      <th>1</th>\n      <td>36</td>\n      <td>0</td>\n      <td>7</td>\n      <td>3</td>\n      <td>1</td>\n      <td>118</td>\n      <td>13</td>\n      <td>18</td>\n      <td>50</td>\n      <td>239.554</td>\n      <td>...</td>\n      <td>1</td>\n      <td>1</td>\n      <td>1</td>\n      <td>1</td>\n      <td>0</td>\n      <td>0</td>\n      <td>98</td>\n      <td>178</td>\n      <td>31</td>\n      <td>0</td>\n    </tr>\n    <tr>\n      <th>2</th>\n      <td>3</td>\n      <td>23</td>\n      <td>7</td>\n      <td>4</td>\n      <td>1</td>\n      <td>179</td>\n      <td>51</td>\n      <td>18</td>\n      <td>38</td>\n      <td>239.554</td>\n      <td>...</td>\n      <td>0</td>\n      <td>1</td>\n      <td>0</td>\n      <td>1</td>\n      <td>0</td>\n      <td>0</td>\n      <td>89</td>\n      <td>170</td>\n      <td>31</td>\n      <td>2</td>\n    </tr>\n    <tr>\n      <th>3</th>\n      <td>7</td>\n      <td>7</td>\n      <td>7</td>\n      <td>5</td>\n      <td>1</td>\n      <td>279</td>\n      <td>5</td>\n      <td>14</td>\n      <td>39</td>\n      <td>239.554</td>\n      <td>...</td>\n      <td>0</td>\n      <td>1</td>\n      <td>2</td>\n      <td>1</td>\n      <td>1</td>\n      <td>0</td>\n      <td>68</td>\n      <td>168</td>\n      <td>24</td>\n      <td>4</td>\n    </tr>\n    <tr>\n      <th>4</th>\n      <td>11</td>\n      <td>23</td>\n      <td>7</td>\n      <td>5</td>\n      <td>1</td>\n      <td>289</td>\n      <td>36</td>\n      <td>13</td>\n      <td>33</td>\n      <td>239.554</td>\n      <td>...</td>\n      <td>0</td>\n      <td>1</td>\n      <td>2</td>\n      <td>1</td>\n      <td>0</td>\n      <td>1</td>\n      <td>90</td>\n      <td>172</td>\n      <td>30</td>\n      <td>2</td>\n    </tr>\n  </tbody>\n</table>\n<p>5 rows × 21 columns</p>\n</div>"
     },
     "execution_count": 12,
     "metadata": {},
     "output_type": "execute_result"
    }
   ],
   "source": [
    "df.columns = df.columns.str.lower().str.replace(' ', '_')\n",
    "df.head()"
   ],
   "metadata": {
    "collapsed": false,
    "pycharm": {
     "name": "#%%\n"
    }
   }
  },
  {
   "cell_type": "code",
   "execution_count": null,
   "outputs": [],
   "source": [],
   "metadata": {
    "collapsed": false,
    "pycharm": {
     "name": "#%%\n"
    }
   }
  }
 ],
 "metadata": {
  "kernelspec": {
   "display_name": "Python 3",
   "language": "python",
   "name": "python3"
  },
  "language_info": {
   "codemirror_mode": {
    "name": "ipython",
    "version": 2
   },
   "file_extension": ".py",
   "mimetype": "text/x-python",
   "name": "python",
   "nbconvert_exporter": "python",
   "pygments_lexer": "ipython2",
   "version": "2.7.6"
  }
 },
 "nbformat": 4,
 "nbformat_minor": 0
}