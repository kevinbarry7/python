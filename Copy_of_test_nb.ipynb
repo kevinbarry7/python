{
  "cells": [
    {
      "cell_type": "markdown",
      "metadata": {
        "id": "view-in-github",
        "colab_type": "text"
      },
      "source": [
        "<a href=\"https://colab.research.google.com/github/kevinbarry7/python/blob/master/Copy_of_test_nb.ipynb\" target=\"_parent\"><img src=\"https://colab.research.google.com/assets/colab-badge.svg\" alt=\"Open In Colab\"/></a>"
      ]
    },
    {
      "cell_type": "code",
      "execution_count": null,
      "metadata": {
        "id": "Z9ZbPSUj_2SW"
      },
      "outputs": [],
      "source": [
        "import pandas as pd\n",
        "import matplotlib.pyplot as plt\n",
        "import seaborn as sns"
      ]
    },
    {
      "cell_type": "code",
      "execution_count": null,
      "metadata": {
        "id": "3jeFIXZW_2SY"
      },
      "outputs": [],
      "source": [
        "sns.set_theme(style=\"darkgrid\")"
      ]
    },
    {
      "cell_type": "code",
      "source": [
        "def swaplist(newlist):\n",
        "  size = len(newlist)\n",
        "  temp = newlist[0]\n",
        "  newlist[0] = newlist[size - 1]\n",
        "  newlist[size - 1] = temp\n",
        "  return newlist\n",
        "\n",
        "newlist = [12, 35, 9, 56, 24]\n",
        "print(swaplist(newlist))\n"
      ],
      "metadata": {
        "id": "5I4D7YUSGRWs",
        "outputId": "ac4ec1bb-ef38-4c9e-a573-bbc066629a5d",
        "colab": {
          "base_uri": "https://localhost:8080/"
        }
      },
      "execution_count": null,
      "outputs": [
        {
          "output_type": "stream",
          "name": "stdout",
          "text": [
            "[24, 35, 9, 56, 12]\n"
          ]
        }
      ]
    },
    {
      "cell_type": "code",
      "source": [
        ""
      ],
      "metadata": {
        "id": "a3XNjOgxJJxp"
      },
      "execution_count": null,
      "outputs": []
    }
  ],
  "metadata": {
    "interpreter": {
      "hash": "d5ecb1748f467b5d4777d690805f96544439de96e9f967607df4f074097c46db"
    },
    "kernelspec": {
      "display_name": "Python 3.8.8 ('base')",
      "language": "python",
      "name": "python3"
    },
    "language_info": {
      "codemirror_mode": {
        "name": "ipython",
        "version": 3
      },
      "file_extension": ".py",
      "mimetype": "text/x-python",
      "name": "python",
      "nbconvert_exporter": "python",
      "pygments_lexer": "ipython3",
      "version": "3.8.8"
    },
    "orig_nbformat": 4,
    "colab": {
      "name": "Copy of test_nb.ipynb",
      "provenance": [],
      "include_colab_link": true
    }
  },
  "nbformat": 4,
  "nbformat_minor": 0
}